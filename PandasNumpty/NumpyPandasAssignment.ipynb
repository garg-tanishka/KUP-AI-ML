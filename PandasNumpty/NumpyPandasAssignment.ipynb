{
 "cells": [
  {
   "cell_type": "markdown",
   "id": "f5d32996",
   "metadata": {},
   "source": [
    "## Question 1 : Replace all odd numbers in arr with -1 without changing arr"
   ]
  },
  {
   "cell_type": "code",
   "execution_count": 22,
   "id": "b722b3db",
   "metadata": {},
   "outputs": [
    {
     "name": "stdout",
     "output_type": "stream",
     "text": [
      "The original array :  [0 1 2 3 4 5 6 7 8 9]\n",
      "The result array :  [ 0 -1  2 -1  4 -1  6 -1  8 -1]\n"
     ]
    }
   ],
   "source": [
    "import numpy as np\n",
    "\n",
    "InputArray = np.array([0, 1, 2, 3, 4, 5, 6, 7, 8, 9])\n",
    "\n",
    "#replacing the odd numbers in the array by -1\n",
    "OutputArray = np.where(InputArray % 2 == 1, -1,InputArray)\n",
    "\n",
    "print(\"The original array : \" ,InputArray)\n",
    "print(\"The result array : \" , OutputArray)"
   ]
  },
  {
   "cell_type": "markdown",
   "id": "046b6c96",
   "metadata": {},
   "source": [
    "## Question 2 : Get the common items between two python numpy arrays\n"
   ]
  },
  {
   "cell_type": "code",
   "execution_count": 17,
   "id": "38d1b2dc",
   "metadata": {},
   "outputs": [
    {
     "name": "stdout",
     "output_type": "stream",
     "text": [
      "Array 1 :  [1 2 3 2 3 4 3 4 5 6]\n",
      "Array 2 :  [ 7  2 10  2  7  4  9  4  9  8]\n",
      "The common items in both arrays are:  [2 4]\n"
     ]
    }
   ],
   "source": [
    "import numpy as np\n",
    "\n",
    "InputArray1 = np.array([1,2,3,2,3,4,3,4,5,6])\n",
    "InputArray2 = np.array([7,2,10,2,7,4,9,4,9,8])\n",
    "\n",
    "print(\"Array 1 : \", InputArray1)\n",
    "print(\"Array 2 : \", InputArray2)\n",
    "\n",
    "# Common values between two numpy arrays\n",
    "print(\"The common items in both arrays are: \", np.intersect1d(InputArray1, InputArray2))"
   ]
  },
  {
   "cell_type": "markdown",
   "id": "3f99d75b",
   "metadata": {},
   "source": [
    "## Question 3 : From array a remove all items present in array b\n"
   ]
  },
  {
   "cell_type": "code",
   "execution_count": 21,
   "id": "267ce3ce",
   "metadata": {},
   "outputs": [
    {
     "name": "stdout",
     "output_type": "stream",
     "text": [
      "Array 1 :  [1 2 3 4 5]\n",
      "Array 2 :  [5 6 7 8 9]\n",
      "Difference of Array 1 and Array 2:  [1 2 3 4]\n"
     ]
    }
   ],
   "source": [
    "import numpy as np\n",
    "\n",
    "InputArray1 = np.array([1,2,3,4,5])\n",
    "InputArray2 = np.array([5,6,7,8,9])\n",
    "\n",
    "#remove array1 all items present in array2\n",
    "OutputArray = np.setdiff1d(InputArray1, InputArray2)\n",
    "\n",
    "print(\"Array 1 : \", InputArray1)\n",
    "print(\"Array 2 : \", InputArray2)\n",
    "print(\"Difference of Array 1 and Array 2: \", OutputArray)"
   ]
  },
  {
   "cell_type": "markdown",
   "id": "d6d48206",
   "metadata": {},
   "source": [
    "## Question4 : Swap rows 1 and 2 in the array"
   ]
  },
  {
   "cell_type": "code",
   "execution_count": 28,
   "id": "254826b6",
   "metadata": {},
   "outputs": [
    {
     "name": "stdout",
     "output_type": "stream",
     "text": [
      "Original Array after swap operation : \n",
      " [[0 1 2]\n",
      " [3 4 5]\n",
      " [6 7 8]]\n",
      "\n",
      "Result Array after swap operation : \n",
      " [[0 1 2]\n",
      " [6 7 8]\n",
      " [3 4 5]]\n"
     ]
    }
   ],
   "source": [
    "import numpy as np\n",
    "\n",
    "InputArray = np.arange(9).reshape(3,3)\n",
    "print(\"Original Array after swap operation : \\n\" , InputArray)\n",
    "\n",
    "#swapping rows 1 and 2\n",
    "InputArray[[1, 2]] = InputArray[[2, 1]]\n",
    "print(\"\\nResult Array after swap operation : \\n\", InputArray)"
   ]
  },
  {
   "cell_type": "markdown",
   "id": "f5fe26bb",
   "metadata": {},
   "source": [
    "## Question 5 : Swap columns 1 and 2 in the array"
   ]
  },
  {
   "cell_type": "code",
   "execution_count": 30,
   "id": "4cbcb059",
   "metadata": {},
   "outputs": [
    {
     "name": "stdout",
     "output_type": "stream",
     "text": [
      "Original Array after swap operation : \n",
      " [[0 1 2]\n",
      " [3 4 5]\n",
      " [6 7 8]]\n",
      "\n",
      "Result Array after swap operation : \n",
      " [[0 2 1]\n",
      " [3 5 4]\n",
      " [6 8 7]]\n"
     ]
    }
   ],
   "source": [
    "import numpy as np\n",
    "\n",
    "InputArray = np.arange(9).reshape(3,3)\n",
    "print(\"Original Array after swap operation : \\n\" , InputArray)\n",
    "\n",
    "#swapping columns 1 and 2\n",
    "InputArray[:,[1, 2]] = InputArray[:,[2,1]]\n",
    "print(\"\\nResult Array after swap operation : \\n\", InputArray)"
   ]
  },
  {
   "cell_type": "markdown",
   "id": "5b4546e2",
   "metadata": {},
   "source": [
    "## Question 6 : \n",
    "\n",
    "### a. Import the iris dataset keeping the text intact.\n",
    "### b. Extract the text column “species” from the 1D iris imported in previous question\n"
   ]
  },
  {
   "cell_type": "code",
   "execution_count": 59,
   "id": "5b6313d0",
   "metadata": {},
   "outputs": [
    {
     "name": "stdout",
     "output_type": "stream",
     "text": [
      "The IRIS Dataset : \n",
      "\n",
      " [[b'5.1' b'3.5' b'1.4' b'0.2' b'Iris-setosa']\n",
      " [b'4.9' b'3.0' b'1.4' b'0.2' b'Iris-setosa']\n",
      " [b'4.7' b'3.2' b'1.3' b'0.2' b'Iris-setosa']\n",
      " [b'4.6' b'3.1' b'1.5' b'0.2' b'Iris-setosa']] \n",
      "\n",
      "Shape of IRIS dataset :  (150,) \n",
      "\n",
      "Column - SPECIES from 1D IRIS : [b'Iris-setosa' b'Iris-setosa' b'Iris-setosa' b'Iris-setosa'\n",
      " b'Iris-setosa']\n"
     ]
    },
    {
     "name": "stderr",
     "output_type": "stream",
     "text": [
      "<ipython-input-59-ded2f786a394>:9: VisibleDeprecationWarning: Reading unicode strings without specifying the encoding argument is deprecated. Set the encoding, use None for the system default.\n",
      "  iris_1d = np.genfromtxt(dataPath, delimiter=',', dtype=None)\n"
     ]
    }
   ],
   "source": [
    "import numpy as np\n",
    "\n",
    "dataPath = 'iris.data'\n",
    "irisData = np.genfromtxt(dataPath, delimiter=',', dtype='object')\n",
    "\n",
    "#dataset keeping the text intact\n",
    "print(\"The IRIS Dataset : \\n\\n\", irisData[:4], \"\\n\")\n",
    "\n",
    "iris_1d = np.genfromtxt(dataPath, delimiter=',', dtype=None)\n",
    "\n",
    "#shape of the iris dataset\n",
    "print(\"Shape of IRIS dataset : \",iris_1d.shape , \"\\n\")\n",
    "\n",
    "#extracting species column from 1D iris\n",
    "species = np.array([row[4] for row in iris_1d])\n",
    "print(\"Column - SPECIES from 1D IRIS :\",species[:5])"
   ]
  },
  {
   "cell_type": "markdown",
   "id": "fed5557a",
   "metadata": {},
   "source": [
    "## Question 7 : Import the csv data from here, you will see some missing data.\n",
    "### a. Find out what percent of the sf_permit dataset is missing\n",
    "### b. Look at the columns Street Number Suffix and Zipcode from the sf_permits datasets. Both of these contain missing values. Which, if either, of these are missing because they don't exist? Which, if either, are missing because they weren't recorded?\n",
    "### c. Try removing all the rows from the sf_permits dataset that contain missing values. How many are left?\n",
    "### d. Now try removing all the columns with empty values. Now how much of your data is left?¶\n",
    "### e. Try replacing all the NaN's in the sf_permit data with the one that comes directly after it and then [replace all the remaining na's with 0]\n"
   ]
  },
  {
   "cell_type": "code",
   "execution_count": 53,
   "id": "e3dcd774",
   "metadata": {},
   "outputs": [
    {
     "name": "stderr",
     "output_type": "stream",
     "text": [
      "/home/knoldus/miniconda3/lib/python3.8/site-packages/IPython/core/interactiveshell.py:3165: DtypeWarning: Columns (22,32) have mixed types.Specify dtype option on import or set low_memory=False.\n",
      "  has_raised = await self.run_ast_nodes(code_ast.body, cell_name,\n"
     ]
    },
    {
     "name": "stdout",
     "output_type": "stream",
     "text": [
      "A. \n",
      "The SF Permits dataset contains 26.26 % missing values.\n",
      "B. \n",
      "Percent missing data in Street Number Suffix column = 98.89\n",
      "Percent missing data in Zipcode column = 0.86\n",
      "C. \n",
      "Columns in original dataset: 43\n",
      "Columns with na's dropped: 43\n",
      "D. \n",
      "Columns in original dataset: 43\n",
      "Columns with na's dropped: 12\n",
      "E. \n"
     ]
    },
    {
     "data": {
      "text/html": [
       "<div>\n",
       "<style scoped>\n",
       "    .dataframe tbody tr th:only-of-type {\n",
       "        vertical-align: middle;\n",
       "    }\n",
       "\n",
       "    .dataframe tbody tr th {\n",
       "        vertical-align: top;\n",
       "    }\n",
       "\n",
       "    .dataframe thead th {\n",
       "        text-align: right;\n",
       "    }\n",
       "</style>\n",
       "<table border=\"1\" class=\"dataframe\">\n",
       "  <thead>\n",
       "    <tr style=\"text-align: right;\">\n",
       "      <th></th>\n",
       "      <th>Permit Number</th>\n",
       "      <th>Permit Type</th>\n",
       "      <th>Permit Type Definition</th>\n",
       "      <th>Permit Creation Date</th>\n",
       "      <th>Block</th>\n",
       "      <th>Lot</th>\n",
       "      <th>Street Number</th>\n",
       "      <th>Street Number Suffix</th>\n",
       "      <th>Street Name</th>\n",
       "      <th>Street Suffix</th>\n",
       "      <th>...</th>\n",
       "      <th>Existing Construction Type</th>\n",
       "      <th>Existing Construction Type Description</th>\n",
       "      <th>Proposed Construction Type</th>\n",
       "      <th>Proposed Construction Type Description</th>\n",
       "      <th>Site Permit</th>\n",
       "      <th>Supervisor District</th>\n",
       "      <th>Neighborhoods - Analysis Boundaries</th>\n",
       "      <th>Zipcode</th>\n",
       "      <th>Location</th>\n",
       "      <th>Record ID</th>\n",
       "    </tr>\n",
       "  </thead>\n",
       "  <tbody>\n",
       "    <tr>\n",
       "      <th>0</th>\n",
       "      <td>201505065519</td>\n",
       "      <td>4</td>\n",
       "      <td>sign - erect</td>\n",
       "      <td>05/06/2015</td>\n",
       "      <td>0326</td>\n",
       "      <td>023</td>\n",
       "      <td>140</td>\n",
       "      <td>0</td>\n",
       "      <td>Ellis</td>\n",
       "      <td>St</td>\n",
       "      <td>...</td>\n",
       "      <td>3.0</td>\n",
       "      <td>constr type 3</td>\n",
       "      <td>0</td>\n",
       "      <td>0</td>\n",
       "      <td>0</td>\n",
       "      <td>3.0</td>\n",
       "      <td>Tenderloin</td>\n",
       "      <td>94102.0</td>\n",
       "      <td>(37.785719256680785, -122.40852313194863)</td>\n",
       "      <td>1380611233945</td>\n",
       "    </tr>\n",
       "    <tr>\n",
       "      <th>1</th>\n",
       "      <td>201604195146</td>\n",
       "      <td>4</td>\n",
       "      <td>sign - erect</td>\n",
       "      <td>04/19/2016</td>\n",
       "      <td>0306</td>\n",
       "      <td>007</td>\n",
       "      <td>440</td>\n",
       "      <td>0</td>\n",
       "      <td>Geary</td>\n",
       "      <td>St</td>\n",
       "      <td>...</td>\n",
       "      <td>3.0</td>\n",
       "      <td>constr type 3</td>\n",
       "      <td>0</td>\n",
       "      <td>0</td>\n",
       "      <td>0</td>\n",
       "      <td>3.0</td>\n",
       "      <td>Tenderloin</td>\n",
       "      <td>94102.0</td>\n",
       "      <td>(37.78733980600732, -122.41063199757738)</td>\n",
       "      <td>1420164406718</td>\n",
       "    </tr>\n",
       "    <tr>\n",
       "      <th>2</th>\n",
       "      <td>201605278609</td>\n",
       "      <td>3</td>\n",
       "      <td>additions alterations or repairs</td>\n",
       "      <td>05/27/2016</td>\n",
       "      <td>0595</td>\n",
       "      <td>203</td>\n",
       "      <td>1647</td>\n",
       "      <td>0</td>\n",
       "      <td>Pacific</td>\n",
       "      <td>Av</td>\n",
       "      <td>...</td>\n",
       "      <td>1.0</td>\n",
       "      <td>constr type 1</td>\n",
       "      <td>1.0</td>\n",
       "      <td>constr type 1</td>\n",
       "      <td>0</td>\n",
       "      <td>3.0</td>\n",
       "      <td>Russian Hill</td>\n",
       "      <td>94109.0</td>\n",
       "      <td>(37.7946573324287, -122.42232562979227)</td>\n",
       "      <td>1424856504716</td>\n",
       "    </tr>\n",
       "    <tr>\n",
       "      <th>3</th>\n",
       "      <td>201611072166</td>\n",
       "      <td>8</td>\n",
       "      <td>otc alterations permit</td>\n",
       "      <td>11/07/2016</td>\n",
       "      <td>0156</td>\n",
       "      <td>011</td>\n",
       "      <td>1230</td>\n",
       "      <td>0</td>\n",
       "      <td>Pacific</td>\n",
       "      <td>Av</td>\n",
       "      <td>...</td>\n",
       "      <td>5.0</td>\n",
       "      <td>wood frame (5)</td>\n",
       "      <td>5.0</td>\n",
       "      <td>wood frame (5)</td>\n",
       "      <td>0</td>\n",
       "      <td>3.0</td>\n",
       "      <td>Nob Hill</td>\n",
       "      <td>94109.0</td>\n",
       "      <td>(37.79595867909168, -122.41557405519474)</td>\n",
       "      <td>1443574295566</td>\n",
       "    </tr>\n",
       "    <tr>\n",
       "      <th>4</th>\n",
       "      <td>201611283529</td>\n",
       "      <td>6</td>\n",
       "      <td>demolitions</td>\n",
       "      <td>11/28/2016</td>\n",
       "      <td>0342</td>\n",
       "      <td>001</td>\n",
       "      <td>950</td>\n",
       "      <td>0</td>\n",
       "      <td>Market</td>\n",
       "      <td>St</td>\n",
       "      <td>...</td>\n",
       "      <td>3.0</td>\n",
       "      <td>constr type 3</td>\n",
       "      <td>5.0</td>\n",
       "      <td>wood frame (5)</td>\n",
       "      <td>0</td>\n",
       "      <td>6.0</td>\n",
       "      <td>Tenderloin</td>\n",
       "      <td>94102.0</td>\n",
       "      <td>(37.78315261897309, -122.40950883997789)</td>\n",
       "      <td>144548169992</td>\n",
       "    </tr>\n",
       "  </tbody>\n",
       "</table>\n",
       "<p>5 rows × 43 columns</p>\n",
       "</div>"
      ],
      "text/plain": [
       "  Permit Number  Permit Type            Permit Type Definition  \\\n",
       "0  201505065519            4                      sign - erect   \n",
       "1  201604195146            4                      sign - erect   \n",
       "2  201605278609            3  additions alterations or repairs   \n",
       "3  201611072166            8            otc alterations permit   \n",
       "4  201611283529            6                       demolitions   \n",
       "\n",
       "  Permit Creation Date Block  Lot  Street Number Street Number Suffix  \\\n",
       "0           05/06/2015  0326  023            140                    0   \n",
       "1           04/19/2016  0306  007            440                    0   \n",
       "2           05/27/2016  0595  203           1647                    0   \n",
       "3           11/07/2016  0156  011           1230                    0   \n",
       "4           11/28/2016  0342  001            950                    0   \n",
       "\n",
       "  Street Name Street Suffix  ... Existing Construction Type  \\\n",
       "0       Ellis            St  ...                        3.0   \n",
       "1       Geary            St  ...                        3.0   \n",
       "2     Pacific            Av  ...                        1.0   \n",
       "3     Pacific            Av  ...                        5.0   \n",
       "4      Market            St  ...                        3.0   \n",
       "\n",
       "  Existing Construction Type Description Proposed Construction Type  \\\n",
       "0                          constr type 3                          0   \n",
       "1                          constr type 3                          0   \n",
       "2                          constr type 1                        1.0   \n",
       "3                         wood frame (5)                        5.0   \n",
       "4                          constr type 3                        5.0   \n",
       "\n",
       "  Proposed Construction Type Description Site Permit Supervisor District  \\\n",
       "0                                      0           0                 3.0   \n",
       "1                                      0           0                 3.0   \n",
       "2                          constr type 1           0                 3.0   \n",
       "3                         wood frame (5)           0                 3.0   \n",
       "4                         wood frame (5)           0                 6.0   \n",
       "\n",
       "  Neighborhoods - Analysis Boundaries  Zipcode  \\\n",
       "0                          Tenderloin  94102.0   \n",
       "1                          Tenderloin  94102.0   \n",
       "2                        Russian Hill  94109.0   \n",
       "3                            Nob Hill  94109.0   \n",
       "4                          Tenderloin  94102.0   \n",
       "\n",
       "                                    Location      Record ID  \n",
       "0  (37.785719256680785, -122.40852313194863)  1380611233945  \n",
       "1   (37.78733980600732, -122.41063199757738)  1420164406718  \n",
       "2    (37.7946573324287, -122.42232562979227)  1424856504716  \n",
       "3   (37.79595867909168, -122.41557405519474)  1443574295566  \n",
       "4   (37.78315261897309, -122.40950883997789)   144548169992  \n",
       "\n",
       "[5 rows x 43 columns]"
      ]
     },
     "execution_count": 53,
     "metadata": {},
     "output_type": "execute_result"
    }
   ],
   "source": [
    "import numpy as np\n",
    "import pandas as pd\n",
    "\n",
    "#importing the csv data into dataset\n",
    "dataset = pd.read_csv('Building_Permits.csv') \n",
    "\n",
    "totalCells = np.product(dataset.shape)\n",
    "\n",
    "# Count number of missing values per column\n",
    "missingCount = dataset.isnull().sum()\n",
    "\n",
    "# Calculate total number of missing values\n",
    "totalMissing = missingCount.sum()\n",
    "\n",
    "# Calculate percentage of missing values\n",
    "print(\"A. \")\n",
    "print(\"The SF Permits dataset contains\", round(((totalMissing/totalCells) * 100), 2), \"%\", \"missing values.\")\n",
    "\n",
    "missingCount[['Street Number Suffix', 'Zipcode']]\n",
    "print(\"B. \")\n",
    "print(\"Percent missing data in Street Number Suffix column =\", (round(((missingCount['Street Number Suffix'] / dataset.shape[0]) * 100), 2)))\n",
    "print(\"Percent missing data in Zipcode column =\", (round(((missingCount['Zipcode'] / dataset.shape[0]) * 100), 2)))\n",
    "\n",
    "print(\"C. \")\n",
    "sfPermitsCleanCols = dataset.dropna()\n",
    "print(\"Columns in original dataset: %d\" % dataset.shape[1])\n",
    "print(\"Columns with missing values dropped: %d\" % sfPermitsCleanCols.shape[1])\n",
    "\n",
    "print(\"D. \")\n",
    "sfPermitsCleanCols = dataset.dropna(axis=1)\n",
    "sfPermitsCleanCols.head()\n",
    "print(\"Columns in original dataset: %d\" % dataset.shape[1])\n",
    "print(\"Columns with na's dropped: %d\" % sfPermitsCleanCols.shape[1])\n",
    "\n",
    "print(\"E. \")\n",
    "imputeSfPermits = dataset.fillna(method='ffill', axis=0).fillna(\"0\")\n",
    "imputeSfPermits.head()"
   ]
  },
  {
   "cell_type": "code",
   "execution_count": null,
   "id": "e0db6290",
   "metadata": {},
   "outputs": [],
   "source": []
  }
 ],
 "metadata": {
  "kernelspec": {
   "display_name": "Python 3",
   "language": "python",
   "name": "python3"
  },
  "language_info": {
   "codemirror_mode": {
    "name": "ipython",
    "version": 3
   },
   "file_extension": ".py",
   "mimetype": "text/x-python",
   "name": "python",
   "nbconvert_exporter": "python",
   "pygments_lexer": "ipython3",
   "version": "3.8.5"
  }
 },
 "nbformat": 4,
 "nbformat_minor": 5
}
