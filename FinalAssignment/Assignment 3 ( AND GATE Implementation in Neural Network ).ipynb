{
 "cells": [
  {
   "cell_type": "markdown",
   "id": "1404ef88",
   "metadata": {},
   "source": [
    "## Design and implement the functionality of ‘And Gate’ using Neural Network from scratch in Python/Java. (Don’t use any library,framework).  \n",
    "\n",
    "### The steps of are as follows:\n",
    "\n",
    "#### Step1: Import the required Python libraries \n",
    "#### Step2: Define Activation Function : Sigmoid Function \n",
    "#### Step3: Initialize neural network parameters (weights, bias) and define model hyperparameters (number of iterations, learning rate) \n",
    "#### Step4: Forward Propagation \n",
    "#### Step5: Backward Propagation \n",
    "#### Step6: Update weight and bias parameters \n",
    "#### Step7: Train the learning model \n",
    "#### Step8: Plot Loss value vs Epoch \n",
    "#### Step9: Test the model performance \n"
   ]
  },
  {
   "cell_type": "code",
   "execution_count": 1,
   "id": "48827a98",
   "metadata": {},
   "outputs": [],
   "source": [
    "# importing Python Libraries\n",
    "import numpy as np\n",
    "from matplotlib import pyplot as plt"
   ]
  },
  {
   "cell_type": "code",
   "execution_count": 2,
   "id": "7164e450",
   "metadata": {},
   "outputs": [],
   "source": [
    "# Sigmoid Function\n",
    "# Formula - 1 / 1 + e ^ (-y)\n",
    "def activationBySigmoid(y):\n",
    "    return 1 / (1 + np.exp(-y))"
   ]
  },
  {
   "cell_type": "code",
   "execution_count": 3,
   "id": "db253dca",
   "metadata": {},
   "outputs": [],
   "source": [
    "# Initialization of the neural network parameters\n",
    "# Initialized all the weights in the range of between 0 and 1\n",
    "# Bias values are initialized to 0\n",
    "def initializeParameters(inputFeatures, neuronsInHiddenLayers, outputFeatures):\n",
    "    W1 = np.random.randn(neuronsInHiddenLayers, inputFeatures)\n",
    "    W2 = np.random.randn(outputFeatures, neuronsInHiddenLayers)\n",
    "    b1 = np.zeros((neuronsInHiddenLayers, 1))\n",
    "    b2 = np.zeros((outputFeatures, 1))\n",
    "     \n",
    "    parameters = {\"W1\" : W1, \"b1\": b1,\"W2\" : W2, \"b2\": b2}\n",
    "    return parameters"
   ]
  },
  {
   "cell_type": "code",
   "execution_count": 4,
   "id": "ecbcc895",
   "metadata": {},
   "outputs": [],
   "source": [
    "# Forward Propagation\n",
    "def forwardPropagation(X, Y, parameters):\n",
    "    m = X.shape[1]\n",
    "    W1 = parameters[\"W1\"]\n",
    "    W2 = parameters[\"W2\"]\n",
    "    b1 = parameters[\"b1\"]\n",
    "    b2 = parameters[\"b2\"]\n",
    " \n",
    "    # Z = Input * Weight i.e., input to activaton function\n",
    "    Z1 = np.dot(W1, X) + b1\n",
    "    A1 = activationBySigmoid(Z1) \n",
    "    Z2 = np.dot(W2, A1) + b2\n",
    "    A2 = activationBySigmoid(Z2)\n",
    "     \n",
    "    # Storing all the values\n",
    "    cache = (Z1, A1, W1, b1, Z2, A2, W2, b2)\n",
    "    \n",
    "    #calculating the cross-Entropy Cost to optimize classification models.\n",
    "    logprobs = np.multiply(np.log(A2), Y) + np.multiply(np.log(1 - A2), (1 - Y))\n",
    "    crossEntropyCost = -np.sum(logprobs) / m\n",
    "    \n",
    "    return crossEntropyCost, cache, A2"
   ]
  },
  {
   "cell_type": "code",
   "execution_count": 5,
   "id": "0c3c88ab",
   "metadata": {},
   "outputs": [],
   "source": [
    "# Backward Propagation\n",
    "def backwardPropagation(X, Y, cache):\n",
    "    m = X.shape[1]\n",
    "    (Z1, A1, W1, b1, Z2, A2, W2, b2) = cache\n",
    "     \n",
    "    dZ2 = A2 - Y\n",
    "    dW2 = np.dot(dZ2, A1.T) / m\n",
    "    db2 = np.sum(dZ2, axis = 1, keepdims = True)\n",
    "     \n",
    "    dA1 = np.dot(W2.T, dZ2)\n",
    "    dZ1 = np.multiply(dA1, A1 * (1- A1))\n",
    "    dW1 = np.dot(dZ1, X.T) / m\n",
    "    db1 = np.sum(dZ1, axis = 1, keepdims = True) / m\n",
    "     \n",
    "    gradients = {\"dZ2\": dZ2, \"dW2\": dW2, \"db2\": db2,\"dZ1\": dZ1, \"dW1\": dW1, \"db1\": db1}\n",
    "    return gradients"
   ]
  },
  {
   "cell_type": "code",
   "execution_count": 6,
   "id": "38968262",
   "metadata": {},
   "outputs": [],
   "source": [
    "# Updating the weights based on the negative gradients\n",
    "def updateParameters(parameters, gradients, learningRate):\n",
    "    parameters[\"W1\"] = parameters[\"W1\"] - learningRate * gradients[\"dW1\"]\n",
    "    parameters[\"W2\"] = parameters[\"W2\"] - learningRate * gradients[\"dW2\"]\n",
    "    parameters[\"b1\"] = parameters[\"b1\"] - learningRate * gradients[\"db1\"]\n",
    "    parameters[\"b2\"] = parameters[\"b2\"] - learningRate * gradients[\"db2\"]\n",
    "    return parameters"
   ]
  },
  {
   "cell_type": "code",
   "execution_count": 7,
   "id": "6dc5b5b9",
   "metadata": {},
   "outputs": [],
   "source": [
    "# Model to learn the AND truth table\n",
    "X = np.array([[0, 0, 1, 1], [0, 1, 0, 1]]) # AND input\n",
    "Y = np.array([[0, 0, 0, 1]]) # AND output\n",
    "\n",
    "# Define model parameters\n",
    "neuronsInHiddenLayers = 2 # number of hidden layer neurons (2)\n",
    "inputFeatures = X.shape[0] # number of input features (2)\n",
    "outputFeatures = Y.shape[0] # number of output features (1)\n",
    "parameters = initializeParameters(inputFeatures, neuronsInHiddenLayers, outputFeatures) #calling the initatizeParameteres function\n",
    "epochCount = 80000 # counting of complete cycle of training the dataset\n",
    "learningRate = 0.01\n",
    "losses = np.zeros((epochCount, 1))\n",
    "\n",
    "for i in range(epochCount):\n",
    "    losses[i, 0], crossEntropyCost, A2 = forwardPropagation(X, Y, parameters)\n",
    "    gradients = backwardPropagation(X, Y, crossEntropyCost)\n",
    "    parameters = updateParameters(parameters, gradients, learningRate)"
   ]
  },
  {
   "cell_type": "code",
   "execution_count": 8,
   "id": "59eb5043",
   "metadata": {},
   "outputs": [
    {
     "data": {
      "image/png": "[encoded data removed]",
      "text/plain": [
       "<Figure size 432x288 with 1 Axes>"
      ]
     },
     "metadata": {
      "needs_background": "light"
     },
     "output_type": "display_data"
    }
   ],
   "source": [
    "# Evaluating the performance\n",
    "plt.figure()\n",
    "plt.plot(losses)\n",
    "plt.xlabel(\"EPOCHS COUNTS\")\n",
    "plt.ylabel(\"Loss value\")\n",
    "plt.show()"
   ]
  },
  {
   "cell_type": "code",
   "execution_count": 9,
   "id": "98b56a13",
   "metadata": {},
   "outputs": [
    {
     "name": "stdout",
     "output_type": "stream",
     "text": [
      "[[1. 0. 1. 0.]]\n"
     ]
    }
   ],
   "source": [
    "# Testing\n",
    "X = np.array([[1, 0, 1, 0], [1, 1, 1, 1]]) # AND input\n",
    "cost, _, A2 = forwardPropagation(X, Y, parameters)\n",
    "prediction = (A2 > 0.5) * 1.0\n",
    "print(prediction)"
   ]
  }
 ],
 "metadata": {
  "kernelspec": {
   "display_name": "Python 3",
   "language": "python",
   "name": "python3"
  },
  "language_info": {
   "codemirror_mode": {
    "name": "ipython",
    "version": 3
   },
   "file_extension": ".py",
   "mimetype": "text/x-python",
   "name": "python",
   "nbconvert_exporter": "python",
   "pygments_lexer": "ipython3",
   "version": "3.8.5"
  }
 },
 "nbformat": 4,
 "nbformat_minor": 5
}
