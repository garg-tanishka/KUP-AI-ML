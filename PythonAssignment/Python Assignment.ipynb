{
 "cells": [
  {
   "cell_type": "markdown",
   "id": "0bbceb72",
   "metadata": {},
   "source": [
    "## Q1 : Convert class object to JSON in Python using required packages\n"
   ]
  },
  {
   "cell_type": "code",
   "execution_count": 7,
   "id": "c427e352",
   "metadata": {},
   "outputs": [
    {
     "name": "stdout",
     "output_type": "stream",
     "text": [
      "{\"empId\": 1451, \"empName\": \"Tanishka Garg\", \"empDesignation\": \"Software Developer\", \"empDepartment\": \"AI/ML\"}\n",
      "{\"empId\": 1452, \"empName\": \"Durgesh Gupta\", \"empDesignation\": \"Software Developer\", \"empDepartment\": \"AI/ML\"}\n",
      "{\"empId\": 1453, \"empName\": \"Nikhil\", \"empDesignation\": \"Software Developer\", \"empDepartment\": \"AI/ML\"}\n",
      "{\"empId\": 1454, \"empName\": \"Praanav\", \"empDesignation\": \"Software Developer\", \"empDepartment\": \"AI/ML\"}\n"
     ]
    }
   ],
   "source": [
    "import json\n",
    "\n",
    "class Employee:\n",
    "    def __init__(self, empId, empName, empDesignation, empDepartment):\n",
    "        self.empId = empId\n",
    "        self.empName = empName\n",
    "        self.empDesignation = empDesignation\n",
    "        self.empDepartment = empDepartment\n",
    "#create object\n",
    "employeeOne = Employee(1451, 'Tanishka Garg', 'Software Developer', 'AI/ML')\n",
    "employeeTwo = Employee(1452, 'Durgesh Gupta', 'Software Developer', 'AI/ML')\n",
    "employeeThree = Employee(1453, 'Nikhil', 'Software Developer', 'AI/ML')\n",
    "employeeFour = Employee(1454, 'Praanav', 'Software Developer', 'AI/ML')\n",
    "\n",
    "#convert to JSON string\n",
    "jsonObjectOne = json.dumps(employeeOne.__dict__)\n",
    "jsonObjectTwo = json.dumps(employeeTwo.__dict__)\n",
    "jsonObjectThree = json.dumps(employeeThree.__dict__)\n",
    "jsonObjectFour = json.dumps(employeeFour.__dict__)\n",
    "\n",
    "#print json string\n",
    "print(jsonObjectOne)\n",
    "print(jsonObjectTwo)\n",
    "print(jsonObjectThree)\n",
    "print(jsonObjectFour)"
   ]
  },
  {
   "cell_type": "markdown",
   "id": "ba486a57",
   "metadata": {},
   "source": [
    "## Q2 : Convert CSV to JSON using Python using required packages\n"
   ]
  },
  {
   "cell_type": "code",
   "execution_count": 11,
   "id": "cd847110",
   "metadata": {},
   "outputs": [],
   "source": [
    "import csv\n",
    "import json\n",
    "\n",
    "def make_json(csvFilePath, jsonFilePath):\n",
    "    \n",
    "    data = {}\n",
    "    # Open a csv reader called DictReader\n",
    "    with open(csvFilePath, encoding='utf-8') as csvf:\n",
    "        csvReader = csv.DictReader(csvf)\n",
    "\n",
    "        # Convert each row into a dictionary and add it to data\n",
    "        for rows in csvReader:\n",
    "            key = rows['Name']\n",
    "            data[key] = rows\n",
    "\n",
    "    # Open a json writer, and use the json.dumpsto dump data\n",
    "    with open(jsonFilePath, 'w', encoding='utf-8') as jsonf:\n",
    "        jsonf.write(json.dumps(data, indent=4))\n",
    "\n",
    "csvFilePath = r'sample.csv'\n",
    "jsonFilePath = r'result.json'\n",
    "\n",
    "make_json(csvFilePath, jsonFilePath)\n"
   ]
  },
  {
   "cell_type": "markdown",
   "id": "ab6d0484",
   "metadata": {},
   "source": [
    "## Q3 : Python Program for Binary Search in Recursive way."
   ]
  },
  {
   "cell_type": "code",
   "execution_count": 22,
   "id": "c59c44f3",
   "metadata": {},
   "outputs": [
    {
     "name": "stdout",
     "output_type": "stream",
     "text": [
      "The original array is :  [2, 3, 4, 10, 40]\n",
      "Value to find in the array is :  10\n",
      "Element is present in the array at index :  3\n"
     ]
    }
   ],
   "source": [
    "def Recursive_binarySearch(array, low, high, valueToFind):\n",
    "    if high >= low:\n",
    "        mid = (high + low) // 2\n",
    "        if array[mid] == valueToFind:\n",
    "            return mid\n",
    "        elif array[mid] > valueToFind:\n",
    "            return Recursive_binarySearch(array, low, mid - 1, valueToFind)\n",
    "        else:\n",
    "            return Recursive_binarySearch(array, mid + 1, high, valueToFind)\n",
    "    else:\n",
    "        return -1\n",
    "\n",
    "array = [ 2, 3, 4, 10, 40 ]\n",
    "valueToFind = 10\n",
    "\n",
    "print(\"The original array is : \" , array)\n",
    "print(\"Value to find in the array is : \" ,valueToFind)\n",
    " \n",
    "result = Recursive_binarySearch(array, 0, len(array)-1, valueToFind)\n",
    " \n",
    "if result != -1:\n",
    "    print(\"Element is present in the array at index : \", str(result))\n",
    "else:\n",
    "    print(\"Element is not presnt in the array\")"
   ]
  },
  {
   "cell_type": "markdown",
   "id": "96705e68",
   "metadata": {},
   "source": [
    "## Q3 : Python Program for Binary Search in Iterative way."
   ]
  },
  {
   "cell_type": "code",
   "execution_count": 15,
   "id": "d5e06479",
   "metadata": {},
   "outputs": [
    {
     "name": "stdout",
     "output_type": "stream",
     "text": [
      "The original array is :  [2, 3, 4, 10, 40]\n",
      "Value to find in the array is :  10\n",
      "Element is present in the array at index :  3\n"
     ]
    }
   ],
   "source": [
    "def Iterative_binarysearch(array, valueToFind):\n",
    "    low = 0\n",
    "    high = len(array) - 1\n",
    "    mid = 0\n",
    " \n",
    "    while low <= high:\n",
    "        mid = (high + low) // 2\n",
    "        if array[mid] < valueToFind:\n",
    "            low = mid + 1\n",
    "        elif array[mid] > valueToFind:\n",
    "            high = mid - 1\n",
    "        else:\n",
    "            return mid\n",
    "    return -1\n",
    " \n",
    "array = [ 2, 3, 4, 10, 40 ]\n",
    "valueToFind = 10\n",
    "\n",
    "print(\"The original array is : \" , array)\n",
    "print(\"Value to find in the array is : \" ,valueToFind)\n",
    "result = Iterative_binarysearch(array, valueToFind)\n",
    " \n",
    "if result != -1:\n",
    "    print(\"Element is present in the array at index : \", str(result))\n",
    "else:\n",
    "    print(\"Element is not present in the array\")"
   ]
  },
  {
   "cell_type": "markdown",
   "id": "39e5516a",
   "metadata": {},
   "source": [
    "# Q4 : Python program to find Indices of Overlapping Substrings\n"
   ]
  },
  {
   "cell_type": "code",
   "execution_count": 16,
   "id": "f6268fdc",
   "metadata": {},
   "outputs": [
    {
     "name": "stdout",
     "output_type": "stream",
     "text": [
      "String we have:  geeksforgeeksforgeeks\n",
      "Pattern we want to match:  geeksforgeeks\n",
      "Indices of Overlapping Substring is:  [0, 8]\n"
     ]
    }
   ],
   "source": [
    "import re\n",
    "  \n",
    "def findIndicesOfOverlappingSubstrings(pattern, string):\n",
    "    a = [m.start() for m in re.finditer(\n",
    "        '(?={0})'.format(re.escape(pattern)), string)]\n",
    "    return a\n",
    "  \n",
    "string = 'geeksforgeeksforgeeks'\n",
    "pattern = 'geeksforgeeks'\n",
    "\n",
    "print(\"String we have: \" , string)\n",
    "print(\"Pattern we want to match: \" , pattern)\n",
    "print(\"Indices of Overlapping Substring is: \", findIndicesOfOverlappingSubstrings(pattern, string))\n",
    "\n"
   ]
  },
  {
   "cell_type": "markdown",
   "id": "6a1833cc",
   "metadata": {},
   "source": [
    "## Q5 : Python program to count Even and Odd numbers in a List (using Lambda)\n"
   ]
  },
  {
   "cell_type": "code",
   "execution_count": 18,
   "id": "171a55e5",
   "metadata": {},
   "outputs": [
    {
     "name": "stdout",
     "output_type": "stream",
     "text": [
      "List we have:  [22, 33, 44, 55, 66, 77, 88, 99]\n",
      "Count of Even numbers in the list are :  4\n",
      "Count of Odd numbers in the list are :  4\n"
     ]
    }
   ],
   "source": [
    "listOfNumbers = [22,33,44,55,66,77,88,99]\n",
    "\n",
    "EvenNumbers = len(list(filter(lambda x: (x%2 == 0) , listOfNumbers)))\n",
    "OddNumbers = len(list(filter(lambda x: (x%2 != 0) , listOfNumbers)))\n",
    "\n",
    "print(\"List we have: \", listOfNumbers)\n",
    "print(\"Count of Even numbers in the list are : \", EvenNumbers)\n",
    "print(\"Count of Odd numbers in the list are : \", OddNumbers)\n"
   ]
  },
  {
   "cell_type": "markdown",
   "id": "0563176b",
   "metadata": {},
   "source": [
    "## Q6 :  Check if two lists have atleast one element common\n"
   ]
  },
  {
   "cell_type": "code",
   "execution_count": 21,
   "id": "07e9e897",
   "metadata": {},
   "outputs": [
    {
     "name": "stdout",
     "output_type": "stream",
     "text": [
      "List 1 we have :  [1, 2, 3, 4, 5]\n",
      "List 2 we have :  [5, 6, 7, 8, 9]\n",
      "Does List 1 or List 2 have atleast one element common:  True\n",
      "\n",
      "List 3 we have :  [1, 2, 3, 4, 5]\n",
      "List 4 we have :  [6, 7, 8, 9]\n",
      "Does List 3 or List 4 have atleast one element common:  False\n"
     ]
    }
   ],
   "source": [
    "def findIfListCommon(list1, list2):\n",
    "    result = False\n",
    "\n",
    "    for x in list1:\n",
    "        for y in list2:\n",
    "            if x == y:\n",
    "                result = True\n",
    "                return result\n",
    "    return result\n",
    "\n",
    "list3 = [1, 2, 3, 4, 5]\n",
    "list4 = [5, 6, 7, 8, 9]\n",
    "print(\"List 1 we have : \", list3)\n",
    "print(\"List 2 we have : \", list4)\n",
    "print(\"Does List 1 or List 2 have atleast one element common: \", findIfListCommon(list3,list4))\n",
    "\n",
    "list5 = [1, 2, 3, 4, 5]\n",
    "list6 = [6, 7, 8, 9]\n",
    "print(\"\\nList 3 we have : \", list5)\n",
    "print(\"List 4 we have : \", list6)\n",
    "print(\"Does List 3 or List 4 have atleast one element common: \",findIfListCommon(list5,list6))\n"
   ]
  },
  {
   "cell_type": "markdown",
   "id": "9a9c325c",
   "metadata": {},
   "source": [
    "## Q7 : Find the Maximum and Minimum K elements from a list in Tuple"
   ]
  },
  {
   "cell_type": "code",
   "execution_count": 4,
   "id": "6ccc1ff6",
   "metadata": {},
   "outputs": [
    {
     "name": "stdout",
     "output_type": "stream",
     "text": [
      "The original tuple is : (3, 7, 1, 18, 9)\n",
      "The extracted values are : (1, 3, 9, 18)\n"
     ]
    }
   ],
   "source": [
    "test_tup = (3, 7, 1, 18, 9)\n",
    "\n",
    "print(\"The original tuple is : \" + str(test_tup))\n",
    "K = 2\n",
    "\n",
    "result = []\n",
    "test_tup = list(test_tup)\n",
    "temp = sorted(test_tup)\n",
    "\n",
    "for idx, val in enumerate(temp):\n",
    "    if idx < K or idx >= len(temp) - K:\n",
    "        result.append(val)\n",
    "result = tuple(result)\n",
    "\n",
    "print(\"The extracted values are : \" + str(result))\n"
   ]
  },
  {
   "cell_type": "markdown",
   "id": "bb9ce70f",
   "metadata": {},
   "source": [
    "## Q8 : Convert Key-Value list Dictionary to List of Lists"
   ]
  },
  {
   "cell_type": "code",
   "execution_count": 5,
   "id": "a662d4fe",
   "metadata": {},
   "outputs": [
    {
     "name": "stdout",
     "output_type": "stream",
     "text": [
      "The original dictionary is : {'Tanishka': [1, 2, 4], 'Swantika': [7, 6]}\n",
      "The converted list is : [['Tanishka', 1, 2, 4], ['Swantika', 7, 6]]\n"
     ]
    }
   ],
   "source": [
    "test_dict = {'Tanishka' : [1, 2, 4], 'Swantika' : [7, 6]}\n",
    "\n",
    "print(\"The original dictionary is : \" + str(test_dict))\n",
    "result = []\n",
    "\n",
    "for key, val in test_dict.items():\n",
    "    result.append([key] + val)\n",
    "\n",
    "print(\"The converted list is : \" + str(result))\n"
   ]
  },
  {
   "cell_type": "markdown",
   "id": "412b1169",
   "metadata": {},
   "source": [
    "## Q9 : Find the most repeated word in a text file"
   ]
  },
  {
   "cell_type": "code",
   "execution_count": 18,
   "id": "fdea0225",
   "metadata": {},
   "outputs": [
    {
     "name": "stdout",
     "output_type": "stream",
     "text": [
      "Most repeated words are: i\n",
      "Frequency is : 2\n"
     ]
    }
   ],
   "source": [
    "file = open(\"sampleFile.txt\",\"r\")\n",
    "frequent_word = \"\"\n",
    "frequency = 0\n",
    "words = []\n",
    "\n",
    "# Traversing file line by line\n",
    "for line in file:\n",
    "    \n",
    "    # splits each line into, words and removing spaces and punctuations from the input\n",
    "    line_word = line.lower().replace(',','').replace('.','').split(\" \");\n",
    "    \n",
    "    # Adding them to list words\n",
    "    for w in line_word:\n",
    "        words.append(w);\n",
    "\n",
    "# Finding the max occured word\n",
    "for i in range(0, len(words)):\n",
    "    count = 1;\n",
    "    \n",
    "    # Count each word in the file\n",
    "    for j in range(i+1, len(words)):\n",
    "        if(words[i] == words[j]):\n",
    "            count = count + 1;\n",
    "    \n",
    "    # If the count value is more than highest frequency then\n",
    "    if(count > frequency):\n",
    "        frequency = count;\n",
    "        frequent_word = words[i];\n",
    "\n",
    "print(\"Most repeated words are: \" + frequent_word)\n",
    "print(\"Frequency is : \" + str(frequency))\n",
    "file.close();\n"
   ]
  },
  {
   "cell_type": "markdown",
   "id": "a0f82fb0",
   "metadata": {},
   "source": [
    "## Q10 : Write a program to build a simple Student Management System using Python which can perform following operations:\n",
    "### 1. Accept\n",
    "### 2. Display\n",
    "### 3. earch\n",
    "### 4. Delete\n",
    "### 5. Update\n"
   ]
  },
  {
   "cell_type": "code",
   "execution_count": 6,
   "id": "97679c56",
   "metadata": {},
   "outputs": [
    {
     "name": "stdout",
     "output_type": "stream",
     "text": [
      "\n",
      "Operations are shown below :  \n",
      "\n",
      "1.Accept Student details\n",
      "2.Display Student Details\n",
      "3.Search Details of a Student\n",
      "4.Delete Details of Student\n",
      "5.Update Student Details\n",
      "6.Exit\n",
      "\n",
      "\n",
      "\n",
      "List of Students\n",
      "\n",
      "Student Name :  Tanishka\n",
      "Student Roll No :  1451\n",
      "Student Age :  24\n",
      "Student Marks 1 :  100\n",
      "Student Marks 2 :  100\n",
      "\n",
      "\n",
      "Student Name :  Nikhil\n",
      "Student Roll No :  1452\n",
      "Student Age :  23\n",
      "Student Marks 1 :  90\n",
      "Student Marks 2 :  90\n",
      "\n",
      "\n",
      "Student Name :  Durgesh\n",
      "Student Roll No :  1453\n",
      "Student Age :  24\n",
      "Student Marks 1 :  80\n",
      "Student Marks 2 :  100\n",
      "\n",
      "\n",
      "Student Name :  Praanav\n",
      "Student Roll No :  1454\n",
      "Student Age :  23\n",
      "Student Marks 1 :  80\n",
      "Student Marks 2 :  100\n",
      "\n",
      "\n",
      "\n",
      " Student Found, \n",
      "Student Name :  Tanishka\n",
      "Student Roll No :  1451\n",
      "Student Age :  24\n",
      "Student Marks 1 :  100\n",
      "Student Marks 2 :  100\n",
      "\n",
      "\n",
      "3\n",
      "List after deletion\n",
      "Student Name :  Tanishka\n",
      "Student Roll No :  1451\n",
      "Student Age :  24\n",
      "Student Marks 1 :  100\n",
      "Student Marks 2 :  100\n",
      "\n",
      "\n",
      "Student Name :  Durgesh\n",
      "Student Roll No :  1453\n",
      "Student Age :  24\n",
      "Student Marks 1 :  80\n",
      "Student Marks 2 :  100\n",
      "\n",
      "\n",
      "Student Name :  Praanav\n",
      "Student Roll No :  1454\n",
      "Student Age :  23\n",
      "Student Marks 1 :  80\n",
      "Student Marks 2 :  100\n",
      "\n",
      "\n",
      "3\n",
      "List after updation\n",
      "Student Name :  Tanishka\n",
      "Student Roll No :  1451\n",
      "Student Age :  24\n",
      "Student Marks 1 :  100\n",
      "Student Marks 2 :  100\n",
      "\n",
      "\n",
      "Student Name :  Durgesh\n",
      "Student Roll No :  1455\n",
      "Student Age :  24\n",
      "Student Marks 1 :  80\n",
      "Student Marks 2 :  100\n",
      "\n",
      "\n",
      "Student Name :  Praanav\n",
      "Student Roll No :  1454\n",
      "Student Age :  23\n",
      "Student Marks 1 :  80\n",
      "Student Marks 2 :  100\n",
      "\n",
      "\n",
      "Thank You !\n"
     ]
    }
   ],
   "source": [
    "class Student:\n",
    "    def __init__(self, StudentName, StudentRollNo, StudentAge, MarksOne, MarksTwo):\n",
    "        self.StudentName = StudentName\n",
    "        self.StudentRollNo = StudentRollNo\n",
    "        self.StudentAge = StudentAge\n",
    "        self.MarksOne = MarksOne\n",
    "        self.MarksTwo = MarksTwo\n",
    "\n",
    "    # Function to create and append new student\n",
    "    def createStudent(self, StudentName, StudentRollNo, StudentAge, MarksOne, MarksTwo):\n",
    "        objectOfStudent = Student(StudentName, StudentRollNo, StudentAge, MarksOne, MarksTwo )\n",
    "        listOfStudents.append(objectOfStudent)\n",
    "\n",
    "    # Function to display student details\n",
    "    def displayStudent(self, objectOfStudent):\n",
    "        print(\"Student Name : \"  , objectOfStudent.StudentName)\n",
    "        print(\"Student Roll No : \", objectOfStudent.StudentRollNo)\n",
    "        print(\"Student Age : \", objectOfStudent.StudentAge)\n",
    "        print(\"Student Marks 1 : \", objectOfStudent.MarksOne)\n",
    "        print(\"Student Marks 2 : \", objectOfStudent.MarksTwo)\n",
    "        print(\"\\n\")\n",
    "        \n",
    "    # Search Function\n",
    "    def searchStudentByRollNo(self, rn):\n",
    "        for i in range(listOfStudents.__len__()):\n",
    "            if(listOfStudents[i].StudentRollNo == rn):\n",
    "                return i\n",
    "    \n",
    "    # Delete Function\n",
    "    def deleteStudent(self, rn):\n",
    "        i = objectOfStudent.searchStudentByRollNo(rn)\n",
    "        del listOfStudents[i]\n",
    "\n",
    "    # Update Function\n",
    "    def updateStudent(self, rn, No):\n",
    "        i = objectOfStudent.searchStudentByRollNo(rn)\n",
    "        roll = No\n",
    "        listOfStudents[i].StudentRollNo = roll;\n",
    "\n",
    "# Create a list to add Students\n",
    "listOfStudents =[]\n",
    "\n",
    "# an object of Student class\n",
    "objectOfStudent = Student('', 0, 0, 0, 0)\n",
    "\n",
    "print(\"\\nOperations are shown below :  \")\n",
    "print(\"\\n1.Accept Student details\\n2.Display Student Details\\n\"\"3.Search Details of a Student\\n4.Delete Details of Student\" \"\\n5.Update Student Details\\n6.Exit\")\n",
    "objectOfStudent.createStudent(\"Tanishka\", 1451, 24, 100, 100)\n",
    "objectOfStudent.createStudent(\"Nikhil\", 1452, 23, 90, 90)\n",
    "objectOfStudent.createStudent(\"Durgesh\", 1453, 24, 80, 100)\n",
    "objectOfStudent.createStudent(\"Praanav\", 1454, 23, 80, 100)\n",
    "\n",
    "print(\"\\n\")\n",
    "print(\"\\nList of Students\\n\")\n",
    "for i in range(listOfStudents.__len__()):\n",
    "    objectOfStudent.displayStudent(listOfStudents[i])\n",
    "    \n",
    "print(\"\\n Student Found, \")\n",
    "s = objectOfStudent.searchStudentByRollNo(1451)\n",
    "objectOfStudent.displayStudent(listOfStudents[s])\n",
    "\n",
    "objectOfStudent.deleteStudent(1452)\n",
    "print(listOfStudents.__len__())\n",
    "print(\"List after deletion\")\n",
    "for i in range(listOfStudents.__len__()):\n",
    "    objectOfStudent.displayStudent(listOfStudents[i])\n",
    "\n",
    "objectOfStudent.updateStudent(1453, 1455)\n",
    "print(listOfStudents.__len__())\n",
    "print(\"List after updation\")\n",
    "for i in range(listOfStudents.__len__()):\n",
    "    objectOfStudent.displayStudent(listOfStudents[i])\n",
    "\n",
    "print(\"Thank You !\")\n"
   ]
  },
  {
   "cell_type": "code",
   "execution_count": null,
   "id": "a4b4c6b5",
   "metadata": {},
   "outputs": [],
   "source": []
  },
  {
   "cell_type": "code",
   "execution_count": null,
   "id": "4c9270cd",
   "metadata": {},
   "outputs": [],
   "source": [
    "\n"
   ]
  }
 ],
 "metadata": {
  "kernelspec": {
   "display_name": "Python 3",
   "language": "python",
   "name": "python3"
  },
  "language_info": {
   "codemirror_mode": {
    "name": "ipython",
    "version": 3
   },
   "file_extension": ".py",
   "mimetype": "text/x-python",
   "name": "python",
   "nbconvert_exporter": "python",
   "pygments_lexer": "ipython3",
   "version": "3.8.5"
  }
 },
 "nbformat": 4,
 "nbformat_minor": 5
}
